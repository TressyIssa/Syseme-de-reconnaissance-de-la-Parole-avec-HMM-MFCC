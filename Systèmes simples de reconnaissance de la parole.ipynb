{
 "cells": [
  {
   "cell_type": "markdown",
   "id": "5afce4e9",
   "metadata": {},
   "source": [
    "# Systèmes de reconnaissance de la parole avec librairies librosa\n",
    "-----------------------------------------------------------------"
   ]
  },
  {
   "cell_type": "markdown",
   "id": "0b3348ea",
   "metadata": {},
   "source": [
    "# Aperçu"
   ]
  },
  {
   "cell_type": "markdown",
   "id": "45a31f67",
   "metadata": {},
   "source": [
    "Ce projet est divisé en deux sections, la partie 1 et la partie 2. La première section met en œuvre un système élémentaire de reconnaissance de mots individuels en anglais. Le dispositif s'appuie sur une caractérisation du signal vocal par le biais des coefficients LPC (Codage Prédictif Linéaire) et une identification reposant sur l'algorithme des voisins les plus proches (k-NN), en se basant sur la distance élastique (Dynamic Time Warping - DTW). Le but de la seconde phase du projet est d'élaborer un système de reconnaissance vocale en exploitant les coefficients MFCC (Mel-Frequency Cepstral Coefficients) pour paramétriser le signal audio, et les Modèles de Markov Cachés (HMM) pour la catégorisation. \n"
   ]
  },
  {
   "cell_type": "markdown",
   "id": "26ab47f9",
   "metadata": {},
   "source": [
    "## Installation des librairies et Lecture d'un fichier audio \n",
    "-----------------------------------------------------------------------"
   ]
  },
  {
   "cell_type": "markdown",
   "id": "04b1192a",
   "metadata": {},
   "source": [
    "Nous commencerons par installer les librairies nécessaires."
   ]
  },
  {
   "cell_type": "code",
   "execution_count": 1,
   "id": "7413f722",
   "metadata": {},
   "outputs": [
    {
     "name": "stdout",
     "output_type": "stream",
     "text": [
      "Requirement already satisfied: librosa in c:\\users\\tariq\\anaconda3\\lib\\site-packages (0.10.1)\n",
      "Requirement already satisfied: joblib>=0.14 in c:\\users\\tariq\\anaconda3\\lib\\site-packages (from librosa) (1.1.0)\n",
      "Requirement already satisfied: soxr>=0.3.2 in c:\\users\\tariq\\anaconda3\\lib\\site-packages (from librosa) (0.3.7)\n",
      "Requirement already satisfied: pooch>=1.0 in c:\\users\\tariq\\anaconda3\\lib\\site-packages (from librosa) (1.8.0)\n",
      "Requirement already satisfied: numba>=0.51.0 in c:\\users\\tariq\\anaconda3\\lib\\site-packages (from librosa) (0.55.1)\n",
      "Requirement already satisfied: scikit-learn>=0.20.0 in c:\\users\\tariq\\anaconda3\\lib\\site-packages (from librosa) (1.0.2)\n",
      "Requirement already satisfied: typing-extensions>=4.1.1 in c:\\users\\tariq\\appdata\\roaming\\python\\python39\\site-packages (from librosa) (4.4.0)\n",
      "Requirement already satisfied: decorator>=4.3.0 in c:\\users\\tariq\\anaconda3\\lib\\site-packages (from librosa) (5.1.1)\n",
      "Requirement already satisfied: lazy-loader>=0.1 in c:\\users\\tariq\\anaconda3\\lib\\site-packages (from librosa) (0.3)\n",
      "Requirement already satisfied: msgpack>=1.0 in c:\\users\\tariq\\anaconda3\\lib\\site-packages (from librosa) (1.0.2)\n",
      "Requirement already satisfied: numpy!=1.22.0,!=1.22.1,!=1.22.2,>=1.20.3 in c:\\users\\tariq\\anaconda3\\lib\\site-packages (from librosa) (1.21.5)\n",
      "Requirement already satisfied: audioread>=2.1.9 in c:\\users\\tariq\\anaconda3\\lib\\site-packages (from librosa) (3.0.1)\n",
      "Requirement already satisfied: soundfile>=0.12.1 in c:\\users\\tariq\\anaconda3\\lib\\site-packages (from librosa) (0.12.1)\n",
      "Requirement already satisfied: scipy>=1.2.0 in c:\\users\\tariq\\anaconda3\\lib\\site-packages (from librosa) (1.7.3)\n",
      "Requirement already satisfied: llvmlite<0.39,>=0.38.0rc1 in c:\\users\\tariq\\anaconda3\\lib\\site-packages (from numba>=0.51.0->librosa) (0.38.0)\n",
      "Requirement already satisfied: setuptools in c:\\users\\tariq\\appdata\\roaming\\python\\python39\\site-packages (from numba>=0.51.0->librosa) (65.6.3)\n",
      "Requirement already satisfied: platformdirs>=2.5.0 in c:\\users\\tariq\\anaconda3\\lib\\site-packages (from pooch>=1.0->librosa) (4.1.0)\n",
      "Requirement already satisfied: requests>=2.19.0 in c:\\users\\tariq\\anaconda3\\lib\\site-packages (from pooch>=1.0->librosa) (2.27.1)\n",
      "Requirement already satisfied: packaging>=20.0 in c:\\users\\tariq\\anaconda3\\lib\\site-packages (from pooch>=1.0->librosa) (21.3)\n",
      "Requirement already satisfied: pyparsing!=3.0.5,>=2.0.2 in c:\\users\\tariq\\appdata\\roaming\\python\\python39\\site-packages (from packaging>=20.0->pooch>=1.0->librosa) (3.0.9)\n",
      "Requirement already satisfied: urllib3<1.27,>=1.21.1 in c:\\users\\tariq\\anaconda3\\lib\\site-packages (from requests>=2.19.0->pooch>=1.0->librosa) (1.26.9)\n",
      "Requirement already satisfied: charset-normalizer~=2.0.0 in c:\\users\\tariq\\anaconda3\\lib\\site-packages (from requests>=2.19.0->pooch>=1.0->librosa) (2.0.4)\n",
      "Requirement already satisfied: idna<4,>=2.5 in c:\\users\\tariq\\appdata\\roaming\\python\\python39\\site-packages (from requests>=2.19.0->pooch>=1.0->librosa) (3.4)\n",
      "Requirement already satisfied: certifi>=2017.4.17 in c:\\users\\tariq\\anaconda3\\lib\\site-packages (from requests>=2.19.0->pooch>=1.0->librosa) (2021.10.8)\n",
      "Requirement already satisfied: threadpoolctl>=2.0.0 in c:\\users\\tariq\\anaconda3\\lib\\site-packages (from scikit-learn>=0.20.0->librosa) (2.2.0)\n",
      "Requirement already satisfied: cffi>=1.0 in c:\\users\\tariq\\anaconda3\\lib\\site-packages (from soundfile>=0.12.1->librosa) (1.15.0)\n",
      "Requirement already satisfied: pycparser in c:\\users\\tariq\\anaconda3\\lib\\site-packages (from cffi>=1.0->soundfile>=0.12.1->librosa) (2.21)\n",
      "Note: you may need to restart the kernel to use updated packages.\n"
     ]
    }
   ],
   "source": [
    "pip install librosa"
   ]
  },
  {
   "cell_type": "markdown",
   "id": "83523b0d",
   "metadata": {},
   "source": [
    "Nous allons lire notre dataset audio: "
   ]
  },
  {
   "cell_type": "code",
   "execution_count": 1,
   "metadata": {},
   "outputs": [
    {
     "name": "stdout",
     "output_type": "stream",
     "text": [
      "[-0.01060764 -0.01393969 -0.01355745 ...  0.00738658  0.00377755\n",
      "  0.        ] 22050\n"
     ]
    }
   ],
   "source": [
    "import librosa\n",
    "audio, Fe = librosa.load('digit_dataset/0/0_jackson_0.wav')\n",
    "print(audio, Fe)"
   ]
  },
  {
   "cell_type": "markdown",
   "id": "e19e05cf",
   "metadata": {},
   "source": [
    "Dans ce cas:\n",
    "- Audio : Vecteur Numpy contenant les valeurs des échantillons audio \n",
    "- Fe : est la fréquence d’échantillonnage."
   ]
  },
  {
   "cell_type": "markdown",
   "id": "7b16d381",
   "metadata": {},
   "source": [
    "- Voici l'audio que nous utilisons: "
   ]
  },
  {
   "cell_type": "code",
   "execution_count": 2,
   "metadata": {},
   "outputs": [
    {
     "data": {
      "text/plain": [
       "[<matplotlib.lines.Line2D at 0x2910408adc0>]"
      ]
     },
     "execution_count": 2,
     "metadata": {},
     "output_type": "execute_result"
    },
    {
     "data": {
      "image/png": "[encoded data removed]",
      "text/plain": [
       "<Figure size 432x288 with 1 Axes>"
      ]
     },
     "metadata": {
      "needs_background": "light"
     },
     "output_type": "display_data"
    }
   ],
   "source": [
    "import numpy as np\n",
    "import matplotlib.pyplot as plt\n",
    "# visualiser audio est un vecteur numpy contenant les valeurs des échantillons audio et Fe est la fréquence d’échantillonnage.\n",
    "plt.plot(audio)"
   ]
  },
  {
   "cell_type": "markdown",
   "id": "63bbc4b3",
   "metadata": {},
   "source": [
    "Voici un autre exemple de code permettant de parcourir une arborescence afin d’accéder aux \n",
    "fichiers audio (.wav) :"
   ]
  },
  {
   "cell_type": "code",
   "execution_count": 3,
   "metadata": {},
   "outputs": [],
   "source": [
    "import os\n",
    "list_of_s = []\n",
    "input_folder='./digit_dataset' \n",
    "for dirname in os.listdir(input_folder):\n",
    "    subfolder = os.path.join(input_folder, dirname)\n",
    "    if not os.path.isdir(subfolder): \n",
    "        continue\n",
    "    for filename in [x for x in os.listdir(subfolder) if x.endswith('.wav')]:\n",
    "        filepath = os.path.join(subfolder, filename)\n",
    "        list_of_s.append(filepath)"
   ]
  },
  {
   "cell_type": "markdown",
   "metadata": {},
   "source": [
    "## Partie 1 : Système de reconnaissance de la parole basé sur les coefficients LPC et la classification des k plus proches voisins utilisant la distance élastique\n",
    "------------------------------------------------------------------------------------"
   ]
  },
  {
   "cell_type": "markdown",
   "metadata": {},
   "source": [
    "### 1.1 Paramétrisation des données audio à partir des coefficients LPC"
   ]
  },
  {
   "cell_type": "markdown",
   "metadata": {},
   "source": [
    "- Calculer leur matrice des coefficients LPC"
   ]
  },
  {
   "attachments": {
    "image.png": {
     "image/png": "[encoded data removed]"
    }
   },
   "cell_type": "markdown",
   "id": "90db8db8",
   "metadata": {},
   "source": [
    "La méthode de Yule-Walker pour le calcul des coefficients LPC suit ces étapes :\n",
    "\n",
    "Autocorrélation : Calculez l'autocorrélation du signal audio, qui est la corrélation du signal avec lui-même à différents décalages.\n",
    "\n",
    "Formez une matrice R symétrique à partir des valeurs d'autocorrélation. La symétrie vient de la nature stationnaire du signal sur la trame, impliquant que R(i)=R(−i).\n",
    "\n",
    "Résolution de l'équation : Utilisez l'équation de Yule-Walker, qui relie les autocorrélations aux coefficients LPC. La résolution se fait typiquement par l'équation récursive:\n",
    "\n",
    "![image.png](attachment:image.png)\n",
    "\n",
    "Coefficients LPC : Les solutions de l'équation de Yule-Walker sont les coefficients LPC. Ils vont etre utilisés pour prédire les échantillons de signal audio basés sur une combinaison linéaire des échantillons précédents.\n",
    "\n",
    "Pour simplifier, sigma  la puissance de l'erreur de prédiction est égale à 1 dans notre cas."
   ]
  },
  {
   "cell_type": "code",
   "execution_count": 43,
   "id": "34f236a3",
   "metadata": {},
   "outputs": [
    {
     "name": "stdout",
     "output_type": "stream",
     "text": [
      "LPC Coefficients: [ 4.15060994 -6.77304368  4.01630426  2.77309812 -6.2580654   4.49914301\n",
      " -3.53358626  6.23181894 -8.04802336  5.82373752 -2.24638692  0.36074579]\n"
     ]
    }
   ],
   "source": [
    "import numpy as np\n",
    "from scipy.linalg import solve_toeplitz\n",
    "\n",
    "def calculate_lpc_coefficients(signal, order):\n",
    "    \"\"\"\n",
    "    Calcule les coefficients LPC en utilisant l'équation Yule-Walker method.\n",
    "    \n",
    "    :param audio: The audio signal as a numpy array.\n",
    "    :param order: The order of the LPC.\n",
    "    :return: The LPC coefficients.\n",
    "    \"\"\"\n",
    "    # Normalisation du signal\n",
    "    # signal = signal / np.max(np.abs(signal))\n",
    "    # Calcul de l'autocorrélation du signal\n",
    "    autocorr = np.correlate(signal, signal, mode='full')\n",
    "    autocorr = autocorr[len(autocorr)//2:len(autocorr)//2+order+1]\n",
    "    # Création de la matrice pour les autocorrélations\n",
    "    R = autocorr[:order]\n",
    "    # Résolution de l'équation de Yule-Walker pour sigma^2 = 1\n",
    "    lpc_coeffs = solve_toeplitz((R, R), autocorr[1:order+1])\n",
    "    return lpc_coeffs\n",
    "\n",
    "# Chargement de l'audio et calcul des coefficients LPC\n",
    "audio, Fe = librosa.load('digit_dataset/0/0_jackson_0.wav')\n",
    "order = 12  # Ordre du modèle LPC\n",
    "lpc_coeffs = calculate_lpc_coefficients(audio, order)\n",
    "print(\"LPC Coefficients:\", lpc_coeffs)"
   ]
  },
  {
   "cell_type": "markdown",
   "id": "191d826e",
   "metadata": {},
   "source": [
    "La fonction ci-dessus permet de calculer les coefficient LPC en se basant sur l'équation de Yule-Walker: \n",
    "\n",
    "-- Normalisation : Elle normalise le signal pour que son amplitude maximale soit de 1. Cela permet de rendre les calculs des coefficients indépendants de l'amplitude du signal d'entrée.\n",
    "\n",
    "-- Autocorrélation : Elle calcule l'autocorrélation du signal audio normalisé pour obtenir une séquence de valeurs représentant la corrélation du signal avec lui-même à différents décalages.\n",
    "\n",
    "-- Matrice R : Elle forme une matrice à partir des valeurs d'autocorrélation. Cette matrice est symétrique et encode les relations linéaires entre les échantillons du signal.\n",
    "\n",
    "-- Résolution de Yule-Walker : Avec sigma^2 = 1, elle résout l'équation de Yule-Walker pour obtenir les coefficients LPC, en utilisant la fonction solve_toeplitz qui est optimisée pour les matrices de Toeplitz."
   ]
  },
  {
   "cell_type": "markdown",
   "id": "9ec9c55a",
   "metadata": {},
   "source": [
    "### 1.2  Calculer et afficher la matrice des distances entre les signaux audio"
   ]
  },
  {
   "cell_type": "markdown",
   "id": "73b0f31d",
   "metadata": {},
   "source": [
    "### 1-2-1 Spliting dataset to training-test "
   ]
  },
  {
   "cell_type": "code",
   "execution_count": 5,
   "id": "9c12b1a7",
   "metadata": {},
   "outputs": [
    {
     "name": "stdout",
     "output_type": "stream",
     "text": [
      "digit_dataset/0\n",
      "digit_dataset/1\n",
      "digit_dataset/2\n",
      "digit_dataset/3\n",
      "digit_dataset/4\n",
      "digit_dataset/5\n",
      "digit_dataset/6\n",
      "digit_dataset/7\n",
      "digit_dataset/8\n",
      "digit_dataset/9\n",
      "Reading and storing audio and labels complete !\n"
     ]
    }
   ],
   "source": [
    "import os\n",
    "import random\n",
    "    \n",
    "audio_files = []\n",
    "labels = []\n",
    "audio_directory = \"digit_dataset/\"\n",
    "# Parcourir les dossiers de chiffres et collecter les noms de fichiers\n",
    "for i in range(10):\n",
    "        digit_folder = audio_directory + str(i)\n",
    "        print(digit_folder)\n",
    "        if os.path.exists(digit_folder):\n",
    "            for filename in os.listdir(digit_folder):\n",
    "                if filename.endswith('.wav'):\n",
    "                    audio, _ = librosa.load(os.path.join(digit_folder, filename)) \n",
    "                    audio_files.append(audio)\n",
    "                    labels.append(i)\n",
    "print(\"Reading and storing audio and labels complete !\")\n",
    "# Mélanger les données tout en conservant la correspondance entre audio_files et labels\n",
    "combined = list(zip(audio_files, labels))\n",
    "random.shuffle(combined)\n",
    "audio_files[:], labels[:] = zip(*combined)\n",
    "# Séparer les données de test\n",
    "test_size=0.2 # 20% pour test\n",
    "split_index = int(len(audio_files) * (1 - test_size))\n",
    "training_files = audio_files[:split_index]\n",
    "training_labels = labels[:split_index]\n",
    "test_files = audio_files[split_index:]\n",
    "test_indices = list(range(split_index, len(audio_files)))"
   ]
  },
  {
   "cell_type": "code",
   "execution_count": 6,
   "id": "f6db9ae6",
   "metadata": {},
   "outputs": [
    {
     "name": "stdout",
     "output_type": "stream",
     "text": [
      "Nombre de fichiers d'entraînement : 1595\n",
      "Nombre d'Étiquettes d'entraînement : 1595\n",
      "Nombre de fichiers de test : 399\n",
      "Nombre d'indices de test : 399\n",
      "Taille de chaque audio dans notre jeu de donnée :  11935\n"
     ]
    }
   ],
   "source": [
    "print(\"Nombre de fichiers d'entraînement :\", len(training_files))\n",
    "print(\"Nombre d'Étiquettes d'entraînement :\", len(training_labels))\n",
    "print(\"Nombre de fichiers de test :\", len(test_files))\n",
    "print(\"Nombre d'indices de test :\", len(test_indices))\n",
    "print(\"Taille de chaque audio dans notre jeu de donnée : \", len(training_files[0]))"
   ]
  },
  {
   "cell_type": "markdown",
   "id": "d6df67bc",
   "metadata": {},
   "source": [
    "### 1-2-2 Prametrisation par coeeficient LPC "
   ]
  },
  {
   "cell_type": "markdown",
   "id": "7ddc3b78",
   "metadata": {},
   "source": [
    "Aprés, nous allons paramétriser nos audio, en utilisant la fonction défini en dessus (paramétrisation par coeeficient LPC)"
   ]
  },
  {
   "cell_type": "code",
   "execution_count": 55,
   "id": "600d8320",
   "metadata": {},
   "outputs": [],
   "source": [
    "# Convertir les fichiers audio en séquences LPC\n",
    "training_lpc = [calculate_lpc_coefficients(file, 3) for file in training_files]\n",
    "test_lpc = [calculate_lpc_coefficients(file, 3) for file in test_files]"
   ]
  },
  {
   "cell_type": "code",
   "execution_count": 56,
   "id": "b6b60417",
   "metadata": {},
   "outputs": [
    {
     "name": "stdout",
     "output_type": "stream",
     "text": [
      "Nombre de fichiers d'entraînement : 1595\n",
      "taille du vecteur LPC : 3\n"
     ]
    }
   ],
   "source": [
    "print(\"Nombre de fichiers d'entraînement :\", len(training_lpc))\n",
    "print(\"taille du vecteur LPC :\", len(training_lpc[0])) "
   ]
  },
  {
   "cell_type": "markdown",
   "id": "e08af1e5",
   "metadata": {},
   "source": [
    "### Calcul de la matrice de distance en utilisant la matrice de distance élastique"
   ]
  },
  {
   "attachments": {
    "image.png": {
     "image/png": "[encoded data removed]"
    }
   },
   "cell_type": "markdown",
   "id": "8149f0b9",
   "metadata": {},
   "source": [
    "La distance élastique est calculée en utilisant l'equation vue \n",
    "relation de récurrence qui permet de trouver le chemin optimal alignant deux séquences de données temporelles. La fonction g(i, j) représente le coût cumulé pour aligner les points jusqu'aux positions i et j dans les deux séquences. Les pondérations ω v, ω d et ω h permettent d'ajuster le coût en fonction de l'orientation du chemin (verticale, diagonale, horizontale). La distance DTW totale entre deux séquences est le coût g à la fin des deux séquences, c'est-à-dire g(I, J). Le chemin optimal peut être retracé à partir de ce point jusqu'au début des séquences (1,1).\n",
    "\n",
    "![image.png](attachment:image.png)"
   ]
  },
  {
   "cell_type": "markdown",
   "id": "cd8419de",
   "metadata": {},
   "source": [
    "Nous allons implémenter dabord la fonction de distance élastique que nous utiliserons dans la fonction de KNN."
   ]
  },
  {
   "cell_type": "code",
   "execution_count": 57,
   "id": "8958e61e",
   "metadata": {},
   "outputs": [
    {
     "name": "stdout",
     "output_type": "stream",
     "text": [
      "0.18184593567843987\n"
     ]
    }
   ],
   "source": [
    "import numpy as np\n",
    "\n",
    "def distance_elastique(sequence1, sequence2, omega_v=1, omega_d=1, omega_h=1):\n",
    "    len_s1, len_s2 = len(sequence1), len(sequence2)\n",
    "    dtw_matrix = np.full((len_s1 + 1, len_s2 + 1), np.inf)\n",
    "    # Coût initial\n",
    "    dtw_matrix[0, 0] = 0\n",
    "    # Remplissage de la matrice\n",
    "    for i in range(1, len_s1 + 1):\n",
    "        for j in range(1, len_s2 + 1):\n",
    "            cost = abs(sequence1[i - 1] - sequence2[j - 1])\n",
    "            vertical = dtw_matrix[i - 1, j] + omega_v * cost\n",
    "            diagonal = dtw_matrix[i - 1, j - 1] + omega_d * cost\n",
    "            horizontal = dtw_matrix[i, j - 1] + omega_h * cost\n",
    "            dtw_matrix[i, j] = min(vertical, diagonal, horizontal)\n",
    "    \n",
    "    return dtw_matrix[len_s1, len_s2]\n",
    "# Exemple d'utilisation\n",
    "seq1 = training_lpc[0]\n",
    "seq2 = training_lpc[1]\n",
    "dist = distance = distance_elastique(seq1, seq2)\n",
    "print(dist)"
   ]
  },
  {
   "cell_type": "markdown",
   "id": "65ad8d32",
   "metadata": {},
   "source": [
    "Nous allons utiliser cette fonction pour calculer la matrice de distance qui sera utiliser dans l'implémentation de la fonction KNN."
   ]
  },
  {
   "cell_type": "code",
   "execution_count": 58,
   "id": "a6659947",
   "metadata": {},
   "outputs": [
    {
     "name": "stdout",
     "output_type": "stream",
     "text": [
      "Matrice des distances DTW :\n",
      "[[0.         0.18184594 0.36127978 ... 0.3093818  0.29454808 0.50297125]\n",
      " [0.18184594 0.         0.32822365 ... 0.15953738 0.30488237 0.47685206]\n",
      " [0.36127978 0.32822365 0.         ... 0.45524927 0.21428065 0.31914925]\n",
      " ...\n",
      " [0.3093818  0.15953738 0.45524927 ... 0.         0.46441975 0.63638944]\n",
      " [0.29454808 0.30488237 0.21428065 ... 0.46441975 0.         0.20842318]\n",
      " [0.50297125 0.47685206 0.31914925 ... 0.63638944 0.20842318 0.        ]]\n"
     ]
    }
   ],
   "source": [
    "def calculate_dtw_distance_matrix(lpc_sequences):\n",
    "    num_sequences = len(lpc_sequences)\n",
    "    distance_matrix = np.zeros((num_sequences, num_sequences))\n",
    "\n",
    "    # Calculer la distance DTW entre chaque paire de séquences LPC\n",
    "    for i in range(num_sequences):\n",
    "        for j in range(i+1, num_sequences):  # Pas besoin de calculer la diagonale\n",
    "            distance = distance_elastique(lpc_sequences[i], lpc_sequences[j])\n",
    "            distance_matrix[i, j] = distance\n",
    "            distance_matrix[j, i] = distance  # La matrice est symétrique\n",
    "\n",
    "    return distance_matrix\n",
    "\n",
    "# Supposons que LPC_sequences est une liste de séquences LPC pour chaque signal audio\n",
    "# Exemple d'utilisation:\n",
    "distance_matrix = calculate_dtw_distance_matrix(training_lpc + test_lpc)\n",
    "print(\"Matrice des distances DTW :\")\n",
    "print(distance_matrix)\n"
   ]
  },
  {
   "cell_type": "code",
   "execution_count": 59,
   "id": "d8c206d1",
   "metadata": {},
   "outputs": [
    {
     "name": "stdout",
     "output_type": "stream",
     "text": [
      "1994\n",
      "1595\n",
      "399\n"
     ]
    }
   ],
   "source": [
    "print(len(distance_matrix))\n",
    "print(len(training_lpc))\n",
    "print(len(test_lpc))"
   ]
  },
  {
   "cell_type": "code",
   "execution_count": 60,
   "id": "4d100a01",
   "metadata": {},
   "outputs": [],
   "source": [
    "def k_nn_elastique(distance_matrix, training_labels, test_indices, k):\n",
    "    \"\"\"\n",
    "    Classifie les données de test à l'aide de l'algorithme k-NN sur la matrice de distance.\n",
    "\n",
    "    :param distance_matrix: La matrice complète des distances entre toutes les données.\n",
    "    :param training_labels: Les étiquettes pour chaque donnée d'entraînement.\n",
    "    :param test_indices: Les indices des données de test dans la matrice de distance.\n",
    "    :param k: Le nombre de voisins à considérer pour la classification.\n",
    "    :return: Les étiquettes prédites pour les données de test.\n",
    "    \"\"\"\n",
    "    predicted_labels = []\n",
    "\n",
    "    for test_idx in test_indices:\n",
    "        # Calculer les distances entre le point de test et tous les points d'entraînement\n",
    "        distances = distance_matrix[test_idx, :len(training_labels)]\n",
    "        # Obtenir les indices des k plus proches voisins\n",
    "        neighbors_indices = np.argsort(distances)[:k]\n",
    "\n",
    "        # Obtenir les étiquettes des plus proches voisins\n",
    "        neighbors_labels = []\n",
    "\n",
    "        for idx in neighbors_indices:\n",
    "            neighbors_labels.append(training_labels[idx])\n",
    "\n",
    "        # Trouver l'étiquette majoritaire parmi les voisins\n",
    "        label = max(set(neighbors_labels), key=neighbors_labels.count)\n",
    "        predicted_labels.append(label)\n",
    "\n",
    "    return predicted_labels"
   ]
  },
  {
   "cell_type": "code",
   "execution_count": 80,
   "id": "3369052e",
   "metadata": {},
   "outputs": [
    {
     "name": "stdout",
     "output_type": "stream",
     "text": [
      "Prédictions k-NN : [4, 9, 4, 5, 5, 2, 4, 5, 0, 5, 8, 2, 0, 8, 1, 0, 1, 7, 8, 7, 9, 6, 4, 4, 9, 7, 6, 2, 8, 1, 1, 2, 1, 5, 2, 6, 9, 5, 4, 8, 4, 7, 1, 2, 8, 7, 4, 3, 5, 0, 7, 8, 4, 2, 4, 4, 2, 8, 7, 5, 5, 8, 1, 0, 2, 9, 0, 5, 6, 2, 0, 7, 9, 9, 2, 2, 3, 1, 6, 5, 7, 9, 6, 1, 1, 2, 3, 5, 6, 7, 9, 7, 6, 5, 9, 5, 6, 8, 9, 6, 4, 1, 2, 1, 4, 1, 7, 6, 3, 3, 4, 1, 6, 9, 1, 6, 6, 1, 5, 5, 3, 3, 5, 1, 4, 4, 0, 6, 6, 7, 5, 8, 9, 8, 6, 9, 7, 7, 7, 6, 3, 1, 9, 8, 2, 0, 1, 7, 3, 4, 8, 5, 9, 4, 9, 7, 8, 9, 9, 1, 8, 9, 0, 8, 2, 2, 2, 2, 9, 1, 7, 4, 8, 4, 7, 0, 8, 7, 8, 8, 7, 6, 6, 8, 9, 2, 0, 9, 2, 0, 6, 6, 4, 5, 7, 8, 6, 3, 3, 1, 9, 1, 8, 8, 2, 5, 1, 1, 5, 4, 9, 5, 4, 9, 9, 5, 3, 1, 6, 9, 4, 7, 3, 9, 8, 1, 8, 6, 8, 6, 9, 3, 5, 8, 3, 3, 0, 5, 8, 5, 6, 6, 9, 6, 8, 4, 0, 9, 4, 8, 1, 7, 1, 0, 9, 6, 8, 6, 8, 7, 6, 9, 9, 0, 3, 7, 9, 4, 2, 0, 7, 5, 7, 3, 1, 2, 8, 9, 5, 0, 8, 6, 0, 9, 8, 1, 2, 3, 1, 3, 1, 7, 4, 7, 4, 7, 3, 1, 8, 3, 3, 9, 8, 9, 7, 4, 8, 8, 4, 8, 1, 5, 5, 5, 7, 7, 0, 1, 2, 9, 1, 1, 8, 8, 6, 9, 7, 4, 2, 3, 6, 1, 3, 7, 6, 9, 8, 4, 5, 7, 9, 2, 9, 6, 6, 5, 4, 1, 8, 5, 8, 0, 7, 1, 9, 4, 2, 4, 4, 9, 9, 5, 3, 5, 9, 6, 1, 6, 5, 2, 8, 4, 3, 2, 1, 1, 8, 1, 8, 3, 4, 9, 5, 1, 6, 9, 2, 1, 7, 7, 7, 6, 0, 1, 4, 4, 7, 6, 2]\n"
     ]
    }
   ],
   "source": [
    "# Réaliser la classification\n",
    "predictions = k_nn_elastique(distance_matrix, training_labels, test_indices, k=22)\n",
    "print(\"Prédictions k-NN :\", predictions)"
   ]
  },
  {
   "cell_type": "markdown",
   "id": "3b4bd875",
   "metadata": {},
   "source": [
    "### Evaluation du modèle"
   ]
  },
  {
   "cell_type": "code",
   "execution_count": 81,
   "id": "9e760aa9",
   "metadata": {},
   "outputs": [
    {
     "name": "stdout",
     "output_type": "stream",
     "text": [
      "Exactitude : 0.3408521303258145\n"
     ]
    }
   ],
   "source": [
    "test_labels = [labels[i] for i in test_indices] \n",
    "accuracy = sum(pred == true for pred, true in zip(predictions, test_labels)) / len(test_labels)\n",
    "print(\"Exactitude :\", accuracy)"
   ]
  },
  {
   "cell_type": "code",
   "execution_count": 82,
   "id": "01a419b6",
   "metadata": {},
   "outputs": [
    {
     "name": "stdout",
     "output_type": "stream",
     "text": [
      "Rappel : 0.3488415002584438\n",
      "Score F1 : 0.3361195445463134\n"
     ]
    }
   ],
   "source": [
    "from sklearn.metrics import confusion_matrix, recall_score, f1_score\n",
    "\n",
    "# Création de la matrice de confusion\n",
    "conf_mat = confusion_matrix(test_labels, predictions)\n",
    "\n",
    "# Calcul du rappel\n",
    "recall = recall_score(test_labels, predictions, average='macro')\n",
    "\n",
    "# Calcul du score F1\n",
    "f1 = f1_score(test_labels, predictions, average='macro')\n",
    "\n",
    "print(\"Rappel :\", recall)\n",
    "print(\"Score F1 :\", f1)\n"
   ]
  },
  {
   "cell_type": "markdown",
   "id": "0767fb01",
   "metadata": {},
   "source": [
    "- Exactitude (0.34) : Seulement environ 34% des prédictions sont correctes. Cela indique une faible performance globale du modèle.\n",
    "- Rappel (0.34) : Le modèle détecte correctement environ 34% des instances positives de chaque classe. Un faible rappel indique que de nombreux cas positifs réels ne sont pas correctement identifiés par le modèle.\n",
    "- Score F1 (0.33) : Ce score, qui équilibre la précision et le rappel, est également bas. Un score F1 faible suggère que le modèle n'est ni précis ni complet dans ses prédictions.\n",
    "\n",
    "Pour améliorer le modèle on peut: \n",
    "\n",
    "- Augmentation de l'Ordre des LPC : Un ordre plus élevé pour les coefficients LPC peut capturer plus de détails dans les signaux vocaux.\n",
    "\n",
    "- Normalisation des Données : On normalisant les données, on peut réduire les variations d'amplitude.\n",
    "\n",
    "- Optimisation des Paramètres : Expérimentez avec différents nombres de voisins (k) dans l'algorithme k-NN.\n",
    "\n",
    "- Données Supplémentaires : Ajouter plus de données d'entraînement pour améliorer la capacité du modèle à généraliser.\n",
    "\n",
    "Nous allons tenter de récupérer la méilleur valeur de k qui maximise notre Exactitude."
   ]
  },
  {
   "cell_type": "markdown",
   "id": "7f6b2415",
   "metadata": {},
   "source": [
    "### Fine tuning: Recherche du meilleur k "
   ]
  },
  {
   "cell_type": "code",
   "execution_count": 64,
   "id": "219a2ad0",
   "metadata": {},
   "outputs": [],
   "source": [
    "from sklearn.metrics import accuracy_score, f1_score, recall_score, mean_squared_error\n",
    "\n",
    "# Stocker les résultats\n",
    "k_values = range(1, 201)\n",
    "accuracies = []\n",
    "f1_scores = []\n",
    "recalls = []\n",
    "mses = []\n",
    "rmses = []\n",
    "\n",
    "for k in k_values:\n",
    "    # Réaliser la classification\n",
    "    predictions = k_nn_elastique(distance_matrix, training_labels, test_indices, k)\n",
    "    \n",
    "    # Calculer les métriques\n",
    "    acc = accuracy_score(test_labels, predictions)\n",
    "    f1 = f1_score(test_labels, predictions, average='macro')\n",
    "    recall = recall_score(test_labels, predictions, average='macro')\n",
    "    rmse = mean_squared_error(test_labels, predictions, squared=False)\n",
    "    \n",
    "    # Stocker les résultats\n",
    "    accuracies.append(acc)\n",
    "    f1_scores.append(f1)\n",
    "    recalls.append(recall)\n",
    "    mses.append(mse)\n",
    "    rmses.append(rmse)\n"
   ]
  },
  {
   "cell_type": "code",
   "execution_count": 67,
   "id": "325394f1",
   "metadata": {},
   "outputs": [
    {
     "data": {
      "image/png": "[encoded data removed]",
      "text/plain": [
       "<Figure size 864x432 with 1 Axes>"
      ]
     },
     "metadata": {
      "needs_background": "light"
     },
     "output_type": "display_data"
    }
   ],
   "source": [
    "import matplotlib.pyplot as plt\n",
    "\n",
    "# Création du graphe\n",
    "plt.figure(figsize=(12, 6))\n",
    "\n",
    "# Tracer les courbes pour chaque métrique\n",
    "plt.plot(k_values, accuracies, label='Accuracy')\n",
    "plt.plot(k_values, f1_scores, label='F1 Score')\n",
    "plt.plot(k_values, recalls, label='Recall')\n",
    "\n",
    "# Ajout des légendes et labels\n",
    "plt.xlabel('k')\n",
    "plt.ylabel('Score')\n",
    "plt.title('Performance du modèle k-NN pour différentes valeurs de k')\n",
    "plt.legend()\n",
    "\n",
    "# Afficher le graphe\n",
    "plt.show()"
   ]
  },
  {
   "cell_type": "markdown",
   "id": "6b8830c6",
   "metadata": {},
   "source": [
    "On observe des pics et des creux, ce qui pourrait suggérer que certaines valeurs de k sont idéales pour ce modèle et cet ensemble de données précis. Il est également à noter que l'accuracy et le score F1 semblent évoluer en tandem, alors que le rappel présente un comportement quelque peu distinct, ce qui pourrait suggérer que les modifications de k influencent le rappel de manière différente par rapport aux autres indicateurs.\n",
    "\n",
    "Le graphe montre que la valeur de k qui maximise les trois métriques est 22."
   ]
  },
  {
   "cell_type": "code",
   "execution_count": 69,
   "id": "1ab07806",
   "metadata": {},
   "outputs": [
    {
     "data": {
      "image/png": "[encoded data removed]",
      "text/plain": [
       "<Figure size 864x432 with 1 Axes>"
      ]
     },
     "metadata": {
      "needs_background": "light"
     },
     "output_type": "display_data"
    }
   ],
   "source": [
    "import matplotlib.pyplot as plt\n",
    "\n",
    "# Création du graphe\n",
    "plt.figure(figsize=(12, 6))\n",
    "\n",
    "plt.plot(k_values, rmses, label='RMSE')\n",
    "\n",
    "# Ajout des légendes et labels\n",
    "plt.xlabel('k')\n",
    "plt.ylabel('Score')\n",
    "plt.title('Performance du modèle k-NN pour différentes valeurs de k')\n",
    "plt.legend()\n",
    "\n",
    "# Afficher le graphe\n",
    "plt.show()"
   ]
  },
  {
   "cell_type": "markdown",
   "id": "8e0d1820",
   "metadata": {},
   "source": [
    "Il semble y avoir une plage de valeurs (entre 35 et 20) pour k où le RMSE est relativement bas et stable. "
   ]
  },
  {
   "cell_type": "markdown",
   "id": "6358a5c8",
   "metadata": {},
   "source": [
    "### Tuning: KNN + Validation croisée"
   ]
  },
  {
   "cell_type": "markdown",
   "id": "7949b485",
   "metadata": {},
   "source": [
    "Nous allons tenter d'améliorer le modèle avec une validation croisée: "
   ]
  },
  {
   "cell_type": "code",
   "execution_count": 85,
   "id": "072ee0b9",
   "metadata": {},
   "outputs": [
    {
     "name": "stdout",
     "output_type": "stream",
     "text": [
      "Fold 1: Exactitude = 0.3434\n",
      "Fold 2: Exactitude = 0.3208\n",
      "Fold 3: Exactitude = 0.3358\n",
      "Fold 4: Exactitude = 0.3283\n",
      "Fold 5: Exactitude = 0.3417\n",
      "\n",
      "Exactitude moyenne en validation croisée : 0.3340\n"
     ]
    }
   ],
   "source": [
    "from sklearn.model_selection import KFold\n",
    "\n",
    "def cross_validate(audio_files, labels, num_folds=5, order=3, k=22):\n",
    "    kf = KFold(n_splits=num_folds)\n",
    "    accuracies = []\n",
    "\n",
    "    for fold, (train_index, test_index) in enumerate(kf.split(audio_files), start=1):\n",
    "        # Séparer les fichiers audio et les étiquettes en ensembles d'entraînement et de test\n",
    "        training_files = [audio_files[i] for i in train_index]\n",
    "        training_labels = [labels[i] for i in train_index]\n",
    "        test_files = [audio_files[i] for i in test_index]\n",
    "        test_labels = [labels[i] for i in test_index]\n",
    "\n",
    "        # Convertir les fichiers audio en séquences LPC\n",
    "        training_lpc = [calculate_lpc_coefficients(file, order) for file in training_files]\n",
    "        test_lpc = [calculate_lpc_coefficients(file, order) for file in test_files]\n",
    "\n",
    "        # Calculer la matrice de distances DTW\n",
    "        distance_matrix = calculate_dtw_distance_matrix(training_lpc + test_lpc)\n",
    "\n",
    "        # Classer les données de test et calculer l'exactitude\n",
    "        test_indices = list(range(len(training_lpc), len(training_lpc) + len(test_lpc)))\n",
    "        predictions = k_nn_elastique(distance_matrix, training_labels, test_indices, k)\n",
    "        accuracy = sum(pred == true for pred, true in zip(predictions, test_labels)) / len(test_labels)\n",
    "        accuracies.append(accuracy)\n",
    "\n",
    "        print(f\"Fold {fold}: Exactitude = {accuracy:.4f}\")\n",
    "\n",
    "    avg_accuracy = np.mean(accuracies)\n",
    "    print(f\"\\nExactitude moyenne en validation croisée : {avg_accuracy:.4f}\")\n",
    "    return avg_accuracy\n",
    "\n",
    "# Exécuter la validation croisée\n",
    "avg_accuracy = cross_validate(audio_files, labels)"
   ]
  },
  {
   "cell_type": "markdown",
   "id": "9fd04bf4",
   "metadata": {},
   "source": [
    "### Conclusion de la partie 1:\n",
    "\n",
    "Stabilité du Modèle : La stabilité des scores d'exactitude à travers les différents folds suggère que le modèle n'est pas excessivement sensible aux variations spécifiques des données dans chaque fold. Cela indique une certaine robustesse.\n",
    "\n",
    "Performance Modérée : Une exactitude d'environ 33% est assez modeste pour un système de classification. Cela peut indiquer que les caractéristiques actuelles (coefficients LPC avec l'ordre choisi) et/ou la méthode de classification (k-NN avec la distance DTW) ne capturent pas entièrement les nuances nécessaires pour une classification plus précise."
   ]
  },
  {
   "cell_type": "markdown",
   "id": "96600b5c",
   "metadata": {},
   "source": [
    "## Partie 2 : Développement d’un système de reconnaissance de la parole basé sur les coefficients MFCC et les Modèles de Markov Cachés. \n"
   ]
  },
  {
   "cell_type": "markdown",
   "id": "5c233540",
   "metadata": {},
   "source": [
    "----------------------------------------------------------------------"
   ]
  },
  {
   "cell_type": "markdown",
   "id": "23ed8e59",
   "metadata": {},
   "source": [
    "La Partie 2 de ce BE consiste à développer un système de reconnaissance de la parole utilisant les coefficients MFCC (Mel-Frequency Cepstral Coefficients) et les Modèles de Markov Cachés (HMM). Voici une description détaillée de chaque étape, y compris le code pour diviser le jeu de données en ensembles d'entraînement et de test :"
   ]
  },
  {
   "cell_type": "code",
   "execution_count": 1,
   "id": "6ca4e7e8",
   "metadata": {},
   "outputs": [],
   "source": [
    "import librosa\n",
    "from librosa.feature import mfcc\n",
    "audio, Fe = librosa.load('digit_dataset/1/1_theo_47.wav') \n",
    "mfcc_features = mfcc(y=audio, sr=Fe, n_mfcc=15, win_length=512, \n",
    "hop_length=512//2 )"
   ]
  },
  {
   "cell_type": "code",
   "execution_count": 2,
   "id": "4168bff4",
   "metadata": {},
   "outputs": [
    {
     "name": "stdout",
     "output_type": "stream",
     "text": [
      "Requirement already satisfied: hmmlearn in c:\\users\\tariq\\anaconda3\\lib\\site-packages (0.3.0)\n",
      "Requirement already satisfied: scipy>=0.19 in c:\\users\\tariq\\anaconda3\\lib\\site-packages (from hmmlearn) (1.7.3)\n",
      "Requirement already satisfied: scikit-learn!=0.22.0,>=0.16 in c:\\users\\tariq\\anaconda3\\lib\\site-packages (from hmmlearn) (1.0.2)\n",
      "Requirement already satisfied: numpy>=1.10 in c:\\users\\tariq\\anaconda3\\lib\\site-packages (from hmmlearn) (1.21.5)\n",
      "Requirement already satisfied: joblib>=0.11 in c:\\users\\tariq\\anaconda3\\lib\\site-packages (from scikit-learn!=0.22.0,>=0.16->hmmlearn) (1.1.0)\n",
      "Requirement already satisfied: threadpoolctl>=2.0.0 in c:\\users\\tariq\\anaconda3\\lib\\site-packages (from scikit-learn!=0.22.0,>=0.16->hmmlearn) (2.2.0)\n",
      "Note: you may need to restart the kernel to use updated packages.\n"
     ]
    }
   ],
   "source": [
    "pip install hmmlearn"
   ]
  },
  {
   "cell_type": "markdown",
   "id": "6b9fa10e",
   "metadata": {},
   "source": [
    "### Etape 0: Division du jeux de donnée en un ensemble de test-train "
   ]
  },
  {
   "cell_type": "code",
   "execution_count": 64,
   "id": "af12b218",
   "metadata": {},
   "outputs": [],
   "source": [
    "from sklearn.model_selection import train_test_split\n",
    "\n",
    "def split_dataset_by_class(dataset: dict, test_size: float = 0.3) -> tuple[dict, dict]:\n",
    "    \"\"\"\n",
    "    Divise le dataset en ensembles d'entraînement et de test pour chaque classe.\n",
    "\n",
    "    :param dataset: Dictionnaire avec des étiquettes de classe comme clés et des listes de fichiers audio comme valeurs.\n",
    "    :param test_size: Proportion de l'ensemble de données à inclure dans l'ensemble de test.\n",
    "    :return: Tuple contenant deux dictionnaires - un pour l'ensemble d'entraînement et un pour l'ensemble de test, \n",
    "             où chaque clé est une étiquette de classe et chaque valeur est une liste de fichiers audio.\n",
    "    \"\"\"\n",
    "    train_data = {}\n",
    "    test_data = {}\n",
    "\n",
    "    for label, files in dataset.items():\n",
    "        # Diviser les fichiers de cette classe en ensembles d'entraînement et de test\n",
    "        train_files, test_files = train_test_split(files, test_size=test_size)\n",
    "\n",
    "        # Stocker les divisions dans les dictionnaires correspondants\n",
    "        train_data[label] = train_files\n",
    "        test_data[label] = test_files\n",
    "\n",
    "    return train_data, test_data"
   ]
  },
  {
   "cell_type": "markdown",
   "id": "f49d5dd8",
   "metadata": {},
   "source": [
    "### Étape 1 : Extraction des Coefficients MFCC"
   ]
  },
  {
   "cell_type": "code",
   "execution_count": 65,
   "id": "8892bd18",
   "metadata": {},
   "outputs": [],
   "source": [
    "import librosa\n",
    "from librosa.feature import mfcc\n",
    "import numpy as np\n",
    "\n",
    "def extract_mfcc(audio_file: str, n_mfcc: int = 15) -> np.ndarray:\n",
    "    \"\"\"\n",
    "    Extrait les coefficients MFCC d'un fichier audio.\n",
    "\n",
    "    :param audio_file: Chemin du fichier audio à traiter.\n",
    "    :param n_mfcc: Nombre de coefficients MFCC à extraire.\n",
    "    :return: Un tableau NumPy des coefficients MFCC extraits, transposé pour avoir une forme constante.\n",
    "    \"\"\"\n",
    "    audio, Fe = librosa.load(audio_file)\n",
    "    mfcc_features = mfcc(y=audio, sr=Fe, n_mfcc=n_mfcc, win_length=512, hop_length=512//2)\n",
    "    return mfcc_features.T"
   ]
  },
  {
   "cell_type": "markdown",
   "id": "f35cbe29",
   "metadata": {},
   "source": [
    "### Étape 2 : Préparation des Données pour les HMM"
   ]
  },
  {
   "cell_type": "code",
   "execution_count": 67,
   "id": "6e4b9aac",
   "metadata": {},
   "outputs": [],
   "source": [
    "def prepare_data_for_hmm(audio_files: list, n_mfcc: int = 15) -> tuple[np.ndarray, list]:\n",
    "    \"\"\"\n",
    "    Prépare les données MFCC pour l'entraînement des modèles HMM.\n",
    "\n",
    "    :param audio_files: Liste des chemins de fichiers audio à traiter.\n",
    "    :param n_mfcc: Nombre de coefficients MFCC à extraire pour chaque fichier audio.\n",
    "    :return: Tuple contenant une matrice NumPy des coefficients MFCC (X) et une liste des longueurs \n",
    "             de séquences MFCC pour chaque fichier audio (lengths).\n",
    "    \"\"\"\n",
    "    X = np.empty((0, n_mfcc))  # Initialiser une matrice vide pour les caractéristiques MFCC\n",
    "    lengths = []  # Liste pour stocker les longueurs des séquences MFCC\n",
    "\n",
    "    # Parcourir chaque fichier audio et extraire les caractéristiques MFCC\n",
    "    for file in audio_files:\n",
    "        mfcc_features = extract_mfcc(file, n_mfcc)\n",
    "        X = np.append(X, mfcc_features, axis=0)  # Ajouter les caractéristiques à la matrice X\n",
    "        lengths.append(len(mfcc_features))  # Ajouter la longueur de la séquence à la liste lengths\n",
    "\n",
    "    return X, lengths"
   ]
  },
  {
   "cell_type": "markdown",
   "id": "cfde01ca",
   "metadata": {},
   "source": [
    "### Etape 3: Entraînement des modèles HMM"
   ]
  },
  {
   "cell_type": "code",
   "execution_count": 68,
   "id": "50068655",
   "metadata": {},
   "outputs": [],
   "source": [
    "from hmmlearn import hmm\n",
    "\n",
    "def train_hmm_models(audio_files_by_class: dict) -> dict:\n",
    "    \"\"\"\n",
    "    Entraîne des modèles de Markov Cachés (HMM) pour chaque classe de fichiers audio.\n",
    "\n",
    "    :param audio_files_by_class: Dictionnaire avec des étiquettes de classe comme clés et des listes de fichiers audio comme valeurs.\n",
    "    :return: Dictionnaire des modèles HMM entraînés, avec les étiquettes de classe comme clés et les modèles HMM comme valeurs.\n",
    "    \"\"\"\n",
    "    models = {}  # Dictionnaire pour stocker les modèles HMM pour chaque classe\n",
    "\n",
    "    # Parcourir chaque classe et ses fichiers associés\n",
    "    for class_label, files in audio_files_by_class.items():\n",
    "        # Préparer les données MFCC pour les fichiers de cette classe\n",
    "        X, lengths = prepare_data_for_hmm(files)\n",
    "\n",
    "        # Créer et entraîner un modèle HMM pour cette classe\n",
    "        model = hmm.GaussianHMM(n_components=4, n_iter=1000)\n",
    "        model.fit(X, lengths)\n",
    "\n",
    "        # Stocker le modèle entraîné dans le dictionnaire\n",
    "        models[class_label] = model\n",
    "\n",
    "    return models"
   ]
  },
  {
   "cell_type": "markdown",
   "id": "d6d050bb",
   "metadata": {},
   "source": [
    "### Étape 4 : Reconnaissance et Classification"
   ]
  },
  {
   "cell_type": "code",
   "execution_count": 82,
   "id": "7622be17",
   "metadata": {},
   "outputs": [],
   "source": [
    "def classify_audio(models: dict, test_audio_file: str) -> int:\n",
    "    \"\"\"\n",
    "    Classifie un fichier audio en utilisant les modèles HMM entraînés.\n",
    "\n",
    "    :param models: Dictionnaire des modèles HMM, avec des étiquettes de classe comme clés.\n",
    "    :param test_audio_file: Chemin du fichier audio à classer.\n",
    "    :return: L'étiquette de classe prédite pour le fichier audio.\n",
    "    \"\"\"\n",
    "    # Extraire les caractéristiques MFCC du fichier audio\n",
    "    mfcc_features = extract_mfcc(test_audio_file)\n",
    "\n",
    "    # Initialiser le score et l'étiquette pour la meilleure prédiction\n",
    "    best_score, best_label = float('-inf'), None\n",
    "\n",
    "    # Parcourir chaque modèle HMM et évaluer la probabilité du fichier audio\n",
    "    for label, model in models.items():\n",
    "        score = model.score(mfcc_features)\n",
    "        # Mettre à jour le meilleur score et l'étiquette si nécessaire\n",
    "        if score > best_score:\n",
    "            best_score = score\n",
    "            best_label = label\n",
    "\n",
    "    # Retourner l'étiquette de classe avec le score le plus élevé\n",
    "    return best_label"
   ]
  },
  {
   "cell_type": "markdown",
   "id": "e0837088",
   "metadata": {},
   "source": [
    "### Étape 5 : Création d'un disctionnaire contenant tout les fichiers audios avec leurs label"
   ]
  },
  {
   "cell_type": "markdown",
   "id": "5234d095",
   "metadata": {},
   "source": [
    "Cette fonction vas transformer notre dossier en un dictionnaire avec la clé qui correspont à leur classe."
   ]
  },
  {
   "cell_type": "code",
   "execution_count": 14,
   "id": "19858fb3",
   "metadata": {},
   "outputs": [],
   "source": [
    "import os\n",
    "\n",
    "def create_audio_files_by_class(audio_directory: str) -> dict:\n",
    "    \"\"\"\n",
    "    Crée un dictionnaire des fichiers audio classés par chiffre.\n",
    "\n",
    "    :param audio_directory: Chemin du répertoire contenant les sous-dossiers de chiffres avec des fichiers audio.\n",
    "    :return: Dictionnaire avec les chiffres comme clés (0-9) et les listes des chemins de fichiers audio comme valeurs.\n",
    "    \"\"\"\n",
    "    audio_files_by_class = {}  # Dictionnaire pour stocker les fichiers audio par classe\n",
    "\n",
    "    # Parcourir chaque sous-dossier représentant un chiffre\n",
    "    for chiffre in range(10):\n",
    "        class_path = os.path.join(audio_directory, str(chiffre))\n",
    "        if os.path.isdir(class_path):\n",
    "            audio_files_by_class[chiffre] = []  # Initialiser la liste pour ce chiffre\n",
    "            # Ajouter tous les fichiers .wav dans le sous-dossier à la liste\n",
    "            for filename in os.listdir(class_path):\n",
    "                if filename.endswith('.wav'):\n",
    "                    file_path = os.path.join(class_path, filename)\n",
    "                    audio_files_by_class[chiffre].append(file_path)\n",
    "\n",
    "    return audio_files_by_class\n",
    "\n",
    "# Utilisation \n",
    "audio_directory = 'digit_dataset'\n",
    "audio_files_by_class = create_audio_files_by_class(audio_directory) \n",
    "# audio_files_by_class = {0: ['0_file1.wav', '0_file2.wav'...], 1: ['1_file1.wav', '1_file2.wav',...] ...} "
   ]
  },
  {
   "cell_type": "markdown",
   "id": "c25b72f7",
   "metadata": {},
   "source": [
    "### Pre-processing (split dataset)"
   ]
  },
  {
   "cell_type": "code",
   "execution_count": 27,
   "id": "25137dc4",
   "metadata": {},
   "outputs": [
    {
     "name": "stdout",
     "output_type": "stream",
     "text": [
      "Nombre de donnée pour l'entrainement de chaque classe:  139\n",
      "Les classes pour l'entrainement:  dict_keys([0, 1, 2, 3, 4, 5, 6, 7, 8, 9])\n",
      "Nombre de donnée pour le test de chaque classe:  60\n",
      "Les classes pour le test:  dict_keys([0, 1, 2, 3, 4, 5, 6, 7, 8, 9])\n"
     ]
    }
   ],
   "source": [
    "\n",
    "train_dataset, test_dataset = split_dataset_by_class(audio_files_by_class)\n",
    "print(\"Nombre de donnée pour l'entrainement de chaque classe: \",len(train_dataset[0]))\n",
    "print(\"Les classes pour l'entrainement: \", train_dataset.keys())\n",
    "print(\"Nombre de donnée pour le test de chaque classe: \",len(test_dataset[0]))\n",
    "print(\"Les classes pour le test: \", test_dataset.keys())"
   ]
  },
  {
   "cell_type": "markdown",
   "id": "992d6d8c",
   "metadata": {},
   "source": [
    "### Entrainement du modèle "
   ]
  },
  {
   "cell_type": "code",
   "execution_count": 28,
   "id": "df4e0cf8",
   "metadata": {},
   "outputs": [
    {
     "name": "stderr",
     "output_type": "stream",
     "text": [
      "c:\\Users\\tariq\\anaconda3\\lib\\site-packages\\librosa\\core\\spectrum.py:257: UserWarning: n_fft=2048 is too large for input signal of length=1767\n",
      "  warnings.warn(\n"
     ]
    }
   ],
   "source": [
    "# Entraîner les modèles HMM\n",
    "models = train_hmm_models(train_dataset)"
   ]
  },
  {
   "cell_type": "markdown",
   "id": "7dc297e9",
   "metadata": {},
   "source": [
    "### Evaluation du modèle"
   ]
  },
  {
   "cell_type": "markdown",
   "id": "71452cd4",
   "metadata": {},
   "source": [
    "Ce script permet de récupérer un fichier test est d'évaluer si la prédiction est correcte ou pas."
   ]
  },
  {
   "cell_type": "code",
   "execution_count": 81,
   "id": "2b22d076",
   "metadata": {},
   "outputs": [
    {
     "name": "stdout",
     "output_type": "stream",
     "text": [
      "digit_dataset\\8\\8_nicolas_0.wav\n",
      "8\n",
      "Correct prediction (^v^) !\n"
     ]
    }
   ],
   "source": [
    "import random\n",
    "\n",
    "# Générer un nombre entier aléatoire entre 0 et 60\n",
    "random_int_class = random.randint(0, 9)\n",
    "random_integer = random.randint(0, 60)\n",
    "# récumérer un fichier test \n",
    "test_file = test_dataset[random_int_class][random_integer]\n",
    "print(test_file)\n",
    "test_label = classify_audio(models, test_file)\n",
    "print(test_label)\n",
    "if random_int_class == test_label: \n",
    "    print(\"Correct prediction (^v^) !\")\n",
    "else:\n",
    "    print(\"Incorrect prediction (-_-) !\")"
   ]
  },
  {
   "cell_type": "markdown",
   "id": "8d9baf82",
   "metadata": {},
   "source": [
    "Nous allons evaluer notre modèle en utilisant notre jeux de donnée de test et quelques métriques d'évaluations."
   ]
  },
  {
   "cell_type": "code",
   "execution_count": 63,
   "id": "b7c9e1d1",
   "metadata": {},
   "outputs": [
    {
     "name": "stderr",
     "output_type": "stream",
     "text": [
      "c:\\Users\\tariq\\anaconda3\\lib\\site-packages\\librosa\\core\\spectrum.py:257: UserWarning: n_fft=2048 is too large for input signal of length=1321\n",
      "  warnings.warn(\n"
     ]
    },
    {
     "name": "stdout",
     "output_type": "stream",
     "text": [
      "Accuracy: 0.6833333333333333\n",
      "Recall: 0.6833333333333333\n",
      "F1 Score: 0.6874384511641407\n"
     ]
    }
   ],
   "source": [
    "from sklearn.metrics import accuracy_score, recall_score, f1_score\n",
    "import numpy as np\n",
    "\n",
    "# Fonction pour extraire les caractéristiques MFCC des données de test\n",
    "def extract_features_for_test(test_data_by_class: dict, n_mfcc: int = 15) -> tuple[list, list]:\n",
    "    \"\"\"\n",
    "    Extrait les caractéristiques MFCC des données de test.\n",
    "\n",
    "    :param test_data_by_class: Dictionnaire avec des étiquettes de classe comme clés et des listes de fichiers audio comme valeurs.\n",
    "    :param n_mfcc: Nombre de coefficients MFCC à extraire.\n",
    "    :return: Tuple contenant deux listes - une pour les caractéristiques MFCC et une pour les vraies étiquettes.\n",
    "    \"\"\"\n",
    "    features = []  # Liste pour stocker les caractéristiques MFCC\n",
    "    true_labels = []  # Liste pour stocker les vraies étiquettes\n",
    "\n",
    "    # Parcourir chaque classe et ses fichiers associés\n",
    "    for label, files in test_data_by_class.items():\n",
    "        for file in files:\n",
    "            mfcc_features = extract_mfcc(file, n_mfcc)  # Extraire les caractéristiques MFCC\n",
    "            features.append(mfcc_features)  # Ajouter les caractéristiques à la liste\n",
    "            true_labels.append(label)  # Ajouter l'étiquette correspondante à la liste\n",
    "    return features, true_labels\n",
    "\n",
    "# Fonction pour évaluer le modèle\n",
    "def evaluate_model(models: dict, test_features: list, true_labels: list) -> tuple[float, float, float]:\n",
    "    \"\"\"\n",
    "    Évalue le modèle en utilisant les caractéristiques MFCC des données de test.\n",
    "\n",
    "    :param models: Dictionnaire des modèles HMM entraînés.\n",
    "    :param test_features: Liste des caractéristiques MFCC pour les données de test.\n",
    "    :param true_labels: Liste des vraies étiquettes pour les données de test.\n",
    "    :return: Tuple contenant l'exactitude, le rappel et le score F1.\n",
    "    \"\"\"\n",
    "    predicted_labels = []  # Liste pour stocker les étiquettes prédites\n",
    "\n",
    "    # Parcourir les caractéristiques MFCC des données de test\n",
    "    for mfcc_features in test_features:\n",
    "        best_score, best_label = float('-inf'), None  # Initialiser le meilleur score et l'étiquette\n",
    "        # Parcourir chaque modèle et calculer son score pour les caractéristiques actuelles\n",
    "        for class_label, model in models.items():\n",
    "            score = model.score(mfcc_features)\n",
    "            # Mettre à jour le meilleur score et l'étiquette si nécessaire\n",
    "            if score > best_score:\n",
    "                best_score = score\n",
    "                best_label = class_label\n",
    "        predicted_labels.append(best_label)  # Ajouter l'étiquette prédite à la liste\n",
    "\n",
    "    # Calculer les métriques d'évaluation\n",
    "    accuracy = accuracy_score(true_labels, predicted_labels)\n",
    "    recall = recall_score(true_labels, predicted_labels, average='macro')\n",
    "    f1 = f1_score(true_labels, predicted_labels, average='macro')\n",
    "\n",
    "    return accuracy, recall, f1\n",
    "\n",
    "# Extraire les caractéristiques MFCC pour les données de test\n",
    "test_features, true_labels = extract_features_for_test(test_dataset)\n",
    "\n",
    "# Évaluer le modèle avec les données de test\n",
    "accuracy, recall, f1 = evaluate_model(models, test_features, true_labels)\n",
    "print(f\"Accuracy: {accuracy}\")\n",
    "print(f\"Recall: {recall}\")\n",
    "print(f\"F1 Score: {f1}\")\n"
   ]
  },
  {
   "cell_type": "markdown",
   "id": "e0683b56",
   "metadata": {},
   "source": [
    "- Rappel (Recall) : 0,6833 (68,33 %) - Le rappel est également de 68,33 %, ce qui indique que le modèle est capable d'identifier correctement 68,33 % de toutes les instances positives à travers les classes.\n",
    "- Exactitude (Accuracy) : 0,6833 (68,33 %) - Cela signifie que 68,33 % des prédictions du modèle étaient correctes. En d'autres termes, le modèle a correctement identifié la classe des fichiers audio plus des deux tiers du temps, ce qui est une performance raisonnablement bonne.\n",
    "- Score F1 : 0,6874 (68,74 %) - Le score F1, qui équilibre la précision et le rappel, est de 68,74 %. C'est un bon indicateur que le modèle a une performance équilibrée en termes de précision et de rappel."
   ]
  }
 ],
 "metadata": {
  "kernelspec": {
   "display_name": "Python 3 (ipykernel)",
   "language": "python",
   "name": "python3"
  },
  "language_info": {
   "codemirror_mode": {
    "name": "ipython",
    "version": 3
   },
   "file_extension": ".py",
   "mimetype": "text/x-python",
   "name": "python",
   "nbconvert_exporter": "python",
   "pygments_lexer": "ipython3",
   "version": "3.9.12"
  }
 },
 "nbformat": 4,
 "nbformat_minor": 5
}
